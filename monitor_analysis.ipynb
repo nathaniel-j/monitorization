{
 "cells": [
  {
   "cell_type": "code",
   "execution_count": 1,
   "metadata": {},
   "outputs": [],
   "source": [
    "import pandas as pd\n",
    "import numpy as np\n",
    "import matplotlib.pyplot as plt\n",
    "import seaborn as sns\n",
    "\n",
    "#%matplotlib notebook\n",
    "%matplotlib inline"
   ]
  },
  {
   "cell_type": "code",
   "execution_count": 97,
   "metadata": {},
   "outputs": [
    {
     "data": {
      "text/html": [
       "<div>\n",
       "<style scoped>\n",
       "    .dataframe tbody tr th:only-of-type {\n",
       "        vertical-align: middle;\n",
       "    }\n",
       "\n",
       "    .dataframe tbody tr th {\n",
       "        vertical-align: top;\n",
       "    }\n",
       "\n",
       "    .dataframe thead th {\n",
       "        text-align: right;\n",
       "    }\n",
       "</style>\n",
       "<table border=\"1\" class=\"dataframe\">\n",
       "  <thead>\n",
       "    <tr style=\"text-align: right;\">\n",
       "      <th></th>\n",
       "      <th>model_name</th>\n",
       "      <th>model_title</th>\n",
       "      <th>price</th>\n",
       "      <th>rating_count</th>\n",
       "      <th>avg_rating</th>\n",
       "      <th>Screen Size</th>\n",
       "      <th>Color Gamut (Typ.)</th>\n",
       "      <th>Aspect Ratio</th>\n",
       "      <th>Display Resolution</th>\n",
       "      <th>Resolution</th>\n",
       "      <th>...</th>\n",
       "      <th>1ms Motion Blur Reduction</th>\n",
       "      <th>Display Type</th>\n",
       "      <th>Super Resolution+</th>\n",
       "      <th>Curved</th>\n",
       "      <th>freesync</th>\n",
       "      <th>freesync_premium</th>\n",
       "      <th>freesync_premium_pro</th>\n",
       "      <th>HDR</th>\n",
       "      <th>response_time_ms</th>\n",
       "      <th>refresh_rate(hz)</th>\n",
       "    </tr>\n",
       "  </thead>\n",
       "  <tbody>\n",
       "    <tr>\n",
       "      <th>0</th>\n",
       "      <td>27UP650-W</td>\n",
       "      <td>LG 27” UHD IPS Monitor with VESA DisplayHDR 40...</td>\n",
       "      <td>450.0</td>\n",
       "      <td>0.0</td>\n",
       "      <td>NaN</td>\n",
       "      <td>27.0</td>\n",
       "      <td>DCI-P3 95% (CIE1976)</td>\n",
       "      <td>16:9</td>\n",
       "      <td>UHD</td>\n",
       "      <td>3840 x 2160</td>\n",
       "      <td>...</td>\n",
       "      <td>0</td>\n",
       "      <td>IPS</td>\n",
       "      <td>0</td>\n",
       "      <td>0</td>\n",
       "      <td>1</td>\n",
       "      <td>0</td>\n",
       "      <td>0</td>\n",
       "      <td>1</td>\n",
       "      <td>5</td>\n",
       "      <td>60</td>\n",
       "    </tr>\n",
       "  </tbody>\n",
       "</table>\n",
       "<p>1 rows × 41 columns</p>\n",
       "</div>"
      ],
      "text/plain": [
       "  model_name                                        model_title  price  \\\n",
       "0  27UP650-W  LG 27” UHD IPS Monitor with VESA DisplayHDR 40...  450.0   \n",
       "\n",
       "   rating_count  avg_rating  Screen Size    Color Gamut (Typ.) Aspect Ratio  \\\n",
       "0           0.0         NaN         27.0  DCI-P3 95% (CIE1976)         16:9   \n",
       "\n",
       "  Display Resolution   Resolution  ... 1ms Motion Blur Reduction Display Type  \\\n",
       "0                UHD  3840 x 2160  ...                         0          IPS   \n",
       "\n",
       "  Super Resolution+  Curved  freesync  freesync_premium  freesync_premium_pro  \\\n",
       "0                 0       0         1                 0                     0   \n",
       "\n",
       "   HDR  response_time_ms  refresh_rate(hz)  \n",
       "0    1                 5                60  \n",
       "\n",
       "[1 rows x 41 columns]"
      ]
     },
     "execution_count": 97,
     "metadata": {},
     "output_type": "execute_result"
    }
   ],
   "source": [
    "sns.set_theme(context='notebook', style='darkgrid', \n",
    "                  palette='deep', font='sans-serif', font_scale=1.3, color_codes=True, rc=None)\n",
    "\n",
    "df = pd.read_csv('monitor_project.csv', index_col=0)\n",
    "df.head(1)"
   ]
  },
  {
   "cell_type": "code",
   "execution_count": 98,
   "metadata": {},
   "outputs": [
    {
     "name": "stdout",
     "output_type": "stream",
     "text": [
      "<class 'pandas.core.frame.DataFrame'>\n",
      "Int64Index: 20 entries, 0 to 19\n",
      "Data columns (total 41 columns):\n",
      " #   Column                          Non-Null Count  Dtype  \n",
      "---  ------                          --------------  -----  \n",
      " 0   model_name                      20 non-null     object \n",
      " 1   model_title                     20 non-null     object \n",
      " 2   price                           20 non-null     float64\n",
      " 3   rating_count                    20 non-null     float64\n",
      " 4   avg_rating                      14 non-null     float64\n",
      " 5   Screen Size                     20 non-null     float64\n",
      " 6   Color Gamut (Typ.)              20 non-null     object \n",
      " 7   Aspect Ratio                    20 non-null     object \n",
      " 8   Display Resolution              20 non-null     object \n",
      " 9   Resolution                      20 non-null     object \n",
      " 10  Brightness                      20 non-null     object \n",
      " 11  Contrast Ratio                  20 non-null     object \n",
      " 12  Surface Treatment               17 non-null     object \n",
      " 13  HDMI                            20 non-null     int64  \n",
      " 14  DisplayPort                     20 non-null     int64  \n",
      " 15  Headphone Out                   20 non-null     int64  \n",
      " 16  Color Weakness Mode             20 non-null     int64  \n",
      " 17  Black Stabilizer                20 non-null     int64  \n",
      " 18  Dynamic Action Sync             20 non-null     int64  \n",
      " 19  Flicker Safe                    20 non-null     int64  \n",
      " 20  Smart Energy Saving             20 non-null     int64  \n",
      " 21  Reader Mode                     20 non-null     int64  \n",
      " 22  Color Calibrated                20 non-null     int64  \n",
      " 23  Dual Controller                 20 non-null     int64  \n",
      " 24  On Screen Control (OSC)         20 non-null     int64  \n",
      " 25  Wide Color Gamut                20 non-null     int64  \n",
      " 26  Color Depth (Number of Colors)  20 non-null     object \n",
      " 27  Pixel Pitch (mm)                20 non-null     float64\n",
      " 28  Speaker                         20 non-null     int64  \n",
      " 29  2020 Model                      20 non-null     int64  \n",
      " 30  NVIDIA G-Sync™                  20 non-null     int64  \n",
      " 31  1ms Motion Blur Reduction       20 non-null     int64  \n",
      " 32  Display Type                    20 non-null     object \n",
      " 33  Super Resolution+               20 non-null     int64  \n",
      " 34  Curved                          20 non-null     int64  \n",
      " 35  freesync                        20 non-null     int64  \n",
      " 36  freesync_premium                20 non-null     int64  \n",
      " 37  freesync_premium_pro            20 non-null     int64  \n",
      " 38  HDR                             20 non-null     int64  \n",
      " 39  response_time_ms                20 non-null     int64  \n",
      " 40  refresh_rate(hz)                20 non-null     int64  \n",
      "dtypes: float64(5), int64(25), object(11)\n",
      "memory usage: 6.6+ KB\n"
     ]
    }
   ],
   "source": [
    "df.info()\n",
    "df.drop('Headphone Out', axis=1, inplace=True)"
   ]
  },
  {
   "cell_type": "markdown",
   "metadata": {},
   "source": [
    "### First exploratory plot\n",
    "I put together this graph as a way to tie in several elements that are important to my selection across all of the monitors in my dataset to get an overview of the selection field. For this overview I chose to use screen size vs price instead of average review vs price for the simple reason that not all monitors had reviews and I want this overview to show the entire selection field. \n",
    "\n",
    "Right away we can see by the price positioning that there is at least one major outlier that is going to disrupt my data analyzation and the Hue of that monitor gives us a good idea why. At \\\\$4000, the monitor in question is more than double the price of the next most expensive monitor, and that is likely because it is the only monitor in the group that uses a brand new [panel technology](https://www.oled-info.com/oled-monitor) that is expensive across other brands as well. I have no intention to even consider spending \\\\$4k for a monitor so I am going to drop this monitor to avoid having it skew the value of the metrics across the other monitors. \n",
    "\n",
    "A second, semi-outlier is by screen size. At 49\", this monitor is almost 30% bigger than the next biggest monitor. While I also have no intention of getting a monitor that is wider than my current desk, it seems like this monitor might actually be underpriced for what it offers and wont skew my attempts to capture price values for different features in the way that the first outlier will. And, with only 19 monitors left, I dont want to get rid of another data point unless I have to, so I will keep this one for now.\n",
    "\n",
    "One interesting point is that none of these regression lines pass through the origin as you would expect in a pure linear relationship. In fact, the last graph intersects at less than -$2000! Obviously buying a tiny screen doesnt result in a negative payment, but [this article](https://dynamicecology.wordpress.com/2017/04/13/dont-force-your-regression-through-zero-just-because-you-know-the-true-intercept-has-to-be-zero/) does a great job of making the argument that a good linear regression model really only needs to be accurate over the range of values that are in consideration, since in reality there are more factors at play that a simple regression cant hope to accurately capture. "
   ]
  },
  {
   "cell_type": "code",
   "execution_count": 107,
   "metadata": {},
   "outputs": [
    {
     "name": "stdout",
     "output_type": "stream",
     "text": [
      "Graph 0 intersects y axis at -$1,347\n",
      "Graph 1 intersects y axis at -$1,250\n",
      "Graph 2 intersects y axis at -$2,097\n"
     ]
    },
    {
     "data": {
      "image/png": "[encoded data removed]",
      "text/plain": [
       "<Figure size 1080x432 with 3 Axes>"
      ]
     },
     "metadata": {},
     "output_type": "display_data"
    }
   ],
   "source": [
    "price_outlier_removed = df.drop(15, axis=0).copy()\n",
    "size_outlier_removed = df.drop([15,17], axis=0).copy()\n",
    "\n",
    "list_of_dfs = [df, price_outlier_removed, size_outlier_removed]\n",
    "list_of_titles = ['All Monitors Included',\n",
    "                  'Price Outlier removed', \n",
    "                  'Size Outlier Removed']\n",
    "\n",
    "def overview_chart(df_list):\n",
    "    \"\"\"plot screen size vs Price scatter charts for monitor dataframes with regression line and panel types broken out\"\"\"\n",
    "\n",
    "    n_plots = len(df_list)\n",
    "    fig = plt.figure(figsize=(15,6))\n",
    "    \n",
    "    #loop to create charts for each df in entered list of dfs\n",
    "    for i, df in enumerate(df_list):\n",
    "        #breaking out display types to plot them with different colored markers\n",
    "        display_types = list(df['Display Type'].unique())\n",
    "        #subplots 1 row, with x cols\n",
    "        plt.subplot(1,n_plots,i+1)\n",
    "        # using loop to plot each display type separately for each df\n",
    "        for d_type in display_types:\n",
    "            mask = df['Display Type']==d_type\n",
    "            plt.scatter(x=df['Screen Size'][mask], y=df['price'][mask], label=d_type)\n",
    "            plt.xlabel('Screen Size')\n",
    "            plt.ylabel('Price')\n",
    "            plt.title(list_of_titles[i])\n",
    "        # draw regression line (only one needed per df chart)\n",
    "        x = df['Screen Size']\n",
    "        y = df['price']\n",
    "        m, b = np.polyfit(x, y, 1)\n",
    "        a = np.arange(22,55,1)\n",
    "        plt.plot(a, m*a + b, color='red')\n",
    "        plt.xlim(22,55)\n",
    "        plt.ylim(0,4200)\n",
    "        plt.legend(fontsize='xx-small')\n",
    "        print(f'Graph {i} intersects y axis at -${-b:,.0f}')\n",
    "    plt.tight_layout()\n",
    "    plt.show()\n",
    "    \n",
    "overview_chart(list_of_dfs)"
   ]
  },
  {
   "cell_type": "code",
   "execution_count": 109,
   "metadata": {
    "scrolled": false
   },
   "outputs": [
    {
     "data": {
      "text/plain": [
       "(19, 40)"
      ]
     },
     "execution_count": 109,
     "metadata": {},
     "output_type": "execute_result"
    }
   ],
   "source": [
    "#removing the outlier monitor and saving to new df\n",
    "\n",
    "data = df.drop(15, axis=0).reset_index(drop=True).copy()\n",
    "data.shape"
   ]
  },
  {
   "cell_type": "markdown",
   "metadata": {},
   "source": [
    "Next thoughts\n",
    "\n",
    "- describe in depth what I am looking for in the \"best\" monitor. \n",
    "    - I want a monitor with good clarity, and features to make it easier on my eyes\n",
    "    - I want a monitor that provides me with more screen room so that I dont have to scroll and switch tabs as much\n",
    "        - right now I think that means both height and width (ie not an UW monitor) but value is a bigger factor\n",
    "    - I would like a monitor with speakers for listening to you tube videos\n",
    "    - I want to pay as little as possible:\n",
    "        - I dont need gaming performance features\n",
    "        - I dont need high performance color range or accuracy\n",
    "        - I dont need a \"huge\" monitor or extra features\n",
    "    \n",
    "- find measures of tendencies. \n",
    "    - what do these columns really mean? \n",
    "    - how do they relate to my requirements?\n",
    "    - how do they relate to the things that I care about for defining \"best\"?  (if measure goes up is it more \"best\"?)\n",
    "\n",
    "- look at feature distributions, histograms, quartile performances, measures of spread (std)\n",
    "- maybe compare total actual screen area (HxW) to see how ratio affects price. \n",
    "- compare measures of clarity for UW vs regular aspect monitors, see if clarity is more expensive in one "
   ]
  },
  {
   "cell_type": "code",
   "execution_count": null,
   "metadata": {},
   "outputs": [],
   "source": []
  }
 ],
 "metadata": {
  "kernelspec": {
   "display_name": "Python 3",
   "language": "python",
   "name": "python3"
  },
  "language_info": {
   "codemirror_mode": {
    "name": "ipython",
    "version": 3
   },
   "file_extension": ".py",
   "mimetype": "text/x-python",
   "name": "python",
   "nbconvert_exporter": "python",
   "pygments_lexer": "ipython3",
   "version": "3.8.8"
  }
 },
 "nbformat": 4,
 "nbformat_minor": 4
}
