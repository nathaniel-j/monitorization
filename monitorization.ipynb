{
 "cells": [
  {
   "cell_type": "markdown",
   "metadata": {},
   "source": [
    "![monitor](monitor_pic.jpg)\n",
    "\n",
    "\n",
    "My current computer monitor is getting a bit dated and my eyes have started to feel sore from looking at it all day. I want to buy a new computer monitor, but every time I get online to start searching I get overwhelmed by the number of monitors available. They come in a wide variety of sizes, widths, definitions, display types, port types, etc, and vary in price from under \\\\$100 to well over \\\\$1000. While I know that I want to upgrade my screen size to give me more working area, other options, like gaming features, are irrelevant to me. How on earth will I ever be able to decide which monitor is right for me?\n",
    "\n",
    "This seems like a perfect opportunity to put some data analysis into action! For this project I am going to be acquiring feature data for a number of different computer monitors and running some product analysis across those features to help me make a data driven decision which monitor to purchase. "
   ]
  },
  {
   "cell_type": "markdown",
   "metadata": {},
   "source": [
    "### First Step: Get the data\n",
    "Unfortunately, I was unable to find a downloadable preexisting dataset for computer monitors so I had to make the dataset myself. I looked through a few different websites that carried a wide variety of monitors from different manufacturers but the available data was limited to pretty basic specifications. For this project I wanted to use a dataset with a rich feature set in order to try to explore more subtle differences in features and try to tease out their value. LG is one of the brands that seem to be pretty appealing to me, and when I looked at their website I found that for each monitor they provided over 50 data points and it was in a format that wouldnt be too difficult to scrape. So, my first step of the first step is going to be building a set of functions to scrape, clean and format the data for one monitor into a dataframe. Then later I will use those functions across multiple monitors and compile them all into one dataset. "
   ]
  },
  {
   "cell_type": "code",
   "execution_count": 1,
   "metadata": {},
   "outputs": [],
   "source": [
    "import pandas as pd\n",
    "import numpy as np\n",
    "from bs4 import BeautifulSoup\n",
    "import requests"
   ]
  },
  {
   "cell_type": "markdown",
   "metadata": {},
   "source": [
    "### Monitor URL list\n",
    "I am starting by extracting the URL for each monitor into a list"
   ]
  },
  {
   "cell_type": "code",
   "execution_count": 2,
   "metadata": {},
   "outputs": [
    {
     "name": "stdout",
     "output_type": "stream",
     "text": [
      "This is the format for our monitor URLs in the list: https://www.lg.com/us/monitors/lg-27up650-w-4k-uhd-monitor\n"
     ]
    }
   ],
   "source": [
    "# extracting the list of monitor URLs to a list\n",
    "results = requests.get('https://www.lg.com/us/monitors')\n",
    "content = results.content\n",
    "soup = BeautifulSoup(content, 'lxml')\n",
    "monitors = soup.find_all('a', class_='ga-model-detail')\n",
    "\n",
    "monitor_list = [monitor.get('href') for monitor in monitors]\n",
    "edited_monitor_list = monitor_list[2:46]\n",
    "reedited_list = []\n",
    "for m in edited_monitor_list:\n",
    "    if m not in reedited_list:\n",
    "        reedited_list.append(m)\n",
    "monitor_url_list = [monitor.rsplit('/',1)[1] for monitor in reedited_list]\n",
    "base_url = 'https://www.lg.com/us/monitors/'\n",
    "monitor_url_list = [base_url + monitor_extention for monitor_extention in monitor_url_list]\n",
    "\n",
    "print(f'This is the format for our monitor URLs in the list: {monitor_url_list[0]}')\n",
    "\n"
   ]
  },
  {
   "cell_type": "markdown",
   "metadata": {},
   "source": [
    "### Individual monitor data extraction\n",
    "Next step is building the functions that will extract and clean up the data for each monitor"
   ]
  },
  {
   "cell_type": "code",
   "execution_count": 3,
   "metadata": {},
   "outputs": [
    {
     "name": "stdout",
     "output_type": "stream",
     "text": [
      "returned object is a <class 'list'> with 10 elements \n"
     ]
    }
   ],
   "source": [
    "# downloading the selected spec tags for a given monitor from the LG website\n",
    "\n",
    "results = requests.get('https://www.lg.com/us/monitors/lg-32ul500-w-4k-uhd-monitor')\n",
    "content = results.content\n",
    "parser = BeautifulSoup(content, 'lxml')\n",
    "\n",
    "table = list(parser.find_all('div', class_=\"tech-spacs\"))\n",
    "\n",
    "# the result is a list with 10 elements\n",
    "# each element is a string with spec data for one aspect of the monitor\n",
    "\n",
    "table_type = type(table)\n",
    "print(f\"returned object is a {table_type} with {len(table)} elements \")"
   ]
  },
  {
   "cell_type": "code",
   "execution_count": 4,
   "metadata": {},
   "outputs": [],
   "source": [
    "# cleaning the first element and turning it into a list\n",
    "\n",
    "first_table = table[0].text.replace('\\n', ' ')\n",
    "first_table = first_table.replace('\\t', ' ')\n",
    "first_table = first_table.strip()\n",
    "first_table_listed = first_table.rsplit('   ')"
   ]
  },
  {
   "cell_type": "code",
   "execution_count": 5,
   "metadata": {},
   "outputs": [],
   "source": [
    "# cleaning up the list\n",
    "\n",
    "q_list = [element for element in first_table_listed if element != '']\n",
    "q_header = q_list[0]\n",
    "q_body = q_list[1:]\n",
    "f = lambda q: q.strip()\n",
    "mapped_q = list(map(f, q_body))"
   ]
  },
  {
   "cell_type": "code",
   "execution_count": 6,
   "metadata": {},
   "outputs": [],
   "source": [
    "#separating the list into category & value lists and recombining as a dictionary\n",
    "\n",
    "category = [mapped_q[i] for i in range(len(mapped_q)) if i%2 == 0]\n",
    "value = [mapped_q[i] for i in range(len(mapped_q)) if i%2 != 0]\n",
    "monitor_dict = dict(zip(category, value))"
   ]
  },
  {
   "cell_type": "code",
   "execution_count": 7,
   "metadata": {},
   "outputs": [
    {
     "data": {
      "text/html": [
       "<div>\n",
       "<style scoped>\n",
       "    .dataframe tbody tr th:only-of-type {\n",
       "        vertical-align: middle;\n",
       "    }\n",
       "\n",
       "    .dataframe tbody tr th {\n",
       "        vertical-align: top;\n",
       "    }\n",
       "\n",
       "    .dataframe thead th {\n",
       "        text-align: right;\n",
       "    }\n",
       "</style>\n",
       "<table border=\"1\" class=\"dataframe\">\n",
       "  <thead>\n",
       "    <tr style=\"text-align: right;\">\n",
       "      <th></th>\n",
       "      <th>Size</th>\n",
       "      <th>Display  Type</th>\n",
       "      <th>Response Time</th>\n",
       "      <th>Refresh Rate</th>\n",
       "      <th>Display Resolution</th>\n",
       "      <th>Color Gamut (Typ.)</th>\n",
       "      <th>Color Depth (Number of Colors)</th>\n",
       "      <th>Pixel Pitch (mm)</th>\n",
       "      <th>Aspect Ratio</th>\n",
       "      <th>Resolution</th>\n",
       "      <th>Brightness</th>\n",
       "      <th>Contrast Ratio</th>\n",
       "      <th>Viewing Angle</th>\n",
       "      <th>Surface Treatment</th>\n",
       "    </tr>\n",
       "  </thead>\n",
       "  <tbody>\n",
       "    <tr>\n",
       "      <th>0</th>\n",
       "      <td>32\"</td>\n",
       "      <td>VA</td>\n",
       "      <td>4ms (GtG at Faster)</td>\n",
       "      <td>60Hz</td>\n",
       "      <td>4K UHD</td>\n",
       "      <td>DCI-P3 95% (CIE1976)</td>\n",
       "      <td>1.07B</td>\n",
       "      <td>0.181x 0.181 mm</td>\n",
       "      <td>16:9</td>\n",
       "      <td>3840 x 2160</td>\n",
       "      <td>300cd/m²</td>\n",
       "      <td>3000:1</td>\n",
       "      <td>178˚(R/L), 178˚(U/D)</td>\n",
       "      <td>Anti-Glare</td>\n",
       "    </tr>\n",
       "  </tbody>\n",
       "</table>\n",
       "</div>"
      ],
      "text/plain": [
       "  Size Display  Type        Response Time Refresh Rate Display Resolution  \\\n",
       "0  32\"            VA  4ms (GtG at Faster)         60Hz             4K UHD   \n",
       "\n",
       "     Color Gamut (Typ.) Color Depth (Number of Colors) Pixel Pitch (mm)  \\\n",
       "0  DCI-P3 95% (CIE1976)                          1.07B  0.181x 0.181 mm   \n",
       "\n",
       "  Aspect Ratio   Resolution Brightness Contrast Ratio         Viewing Angle  \\\n",
       "0         16:9  3840 x 2160   300cd/m²         3000:1  178˚(R/L), 178˚(U/D)   \n",
       "\n",
       "  Surface Treatment  \n",
       "0        Anti-Glare  "
      ]
     },
     "execution_count": 7,
     "metadata": {},
     "output_type": "execute_result"
    }
   ],
   "source": [
    "# putting the values into a dataframe with the row representing the monitor and columns are its attributes\n",
    "\n",
    "df = pd.DataFrame(data=monitor_dict, index=[0])\n",
    "df"
   ]
  },
  {
   "cell_type": "code",
   "execution_count": 8,
   "metadata": {},
   "outputs": [],
   "source": [
    "# putting it all together and building functions for the transformation of each returned scraped elements\n",
    "\n",
    "def download_monitor_specs(URL):\n",
    "    \"\"\"Import monitor specs and parse into list of strings\"\"\"\n",
    "    \n",
    "    from bs4 import BeautifulSoup\n",
    "    import requests\n",
    "    results = requests.get(URL)\n",
    "    content = results.content\n",
    "    parser = BeautifulSoup(content, 'lxml')\n",
    "    list_of_strings = list(parser.find_all('div', class_=\"tech-spacs\"))\n",
    "    return list_of_strings\n",
    "    \n",
    "def clean_element(list_of_strings):\n",
    "    \"\"\"Reformat list of HTML strings and return a list of lists\"\"\"\n",
    "    \n",
    "    listed_element_lists = []\n",
    "    for string in list_of_strings:\n",
    "        string = string.text.replace('\\n', ' ')\n",
    "        string = string.replace('\\t', ' ')\n",
    "        string = string.strip()\n",
    "        listed_string = string.rsplit('   ')\n",
    "        listed_element_lists.append(listed_string)\n",
    "    return listed_element_lists\n",
    "\n",
    "def clean_listed_element(listed_element_lists):\n",
    "    \"\"\"Remove blank lines and strip empty spaces on list elements\"\"\"\n",
    "    \n",
    "    cleaned_element_list = []\n",
    "    for list_ in listed_element_lists:\n",
    "        listed_element = [element for element in list_ if element != '']\n",
    "        listed_element = listed_element[1:]\n",
    "        f = lambda q: q.strip()\n",
    "        listed_element = list(map(f, listed_element))\n",
    "        cleaned_element_list.append(listed_element)\n",
    "    return cleaned_element_list\n",
    "\n",
    "def list_to_dict(cleaned_element_list):\n",
    "    \"\"\"Separate list into categories and values then combine into dictionary\"\"\"\n",
    "    \n",
    "    categories = []\n",
    "    values = []\n",
    "    for element in cleaned_element_list:\n",
    "        category = [element[i] for i in range(len(element)) if i%2 == 0]\n",
    "        categories += category\n",
    "        value = [element[i] for i in range(len(element)) if i%2 != 0]\n",
    "        values+=value\n",
    "    \n",
    "    monitor_dict = dict(zip(categories, values))\n",
    "    return monitor_dict\n",
    "\n",
    "\n",
    "def dict_to_df(monitor_dict):\n",
    "    \"\"\"Convert dictionary of monitor specs into pandas DataFrame object\"\"\"\n",
    "    import pandas as pd\n",
    "    df = pd.DataFrame(data=monitor_dict, index=[0])\n",
    "    return df\n",
    "\n"
   ]
  },
  {
   "cell_type": "code",
   "execution_count": 9,
   "metadata": {},
   "outputs": [
    {
     "data": {
      "text/plain": [
       "(1, 52)"
      ]
     },
     "execution_count": 9,
     "metadata": {},
     "output_type": "execute_result"
    }
   ],
   "source": [
    "# testing out the function pipeline so far\n",
    "\n",
    "url = 'https://www.lg.com/us/monitors/lg-32ul500-w-4k-uhd-monitor'\n",
    "\n",
    "df = dict_to_df(\n",
    "    list_to_dict(\n",
    "    clean_listed_element(\n",
    "    clean_element(\n",
    "    download_monitor_specs(url)\n",
    "    ))))\n",
    "\n",
    "df.shape"
   ]
  },
  {
   "cell_type": "markdown",
   "metadata": {},
   "source": [
    "### Putting together secondary path for review page info retrieval "
   ]
  },
  {
   "cell_type": "code",
   "execution_count": 10,
   "metadata": {},
   "outputs": [],
   "source": [
    "# for price, model name and reviews it was easier to scrape from a different URL than the initial scrape\n",
    "\n",
    "def access_review_page(url):\n",
    "    \"\"\"redirect monitor url to monitor review url\"\"\"\n",
    "    monitor_review_url = url + '/reviews'\n",
    "    \n",
    "    return monitor_review_url\n",
    "\n",
    "def extract_review_elements(monitor_review_url):\n",
    "    \"\"\"Pulls values from monitor review website and returns dict with 'col':'value' format\"\"\"\n",
    "    results = requests.get(monitor_review_url)\n",
    "    content = results.content\n",
    "    soup = BeautifulSoup(content, 'lxml')\n",
    "    \n",
    "    values_to_extract = {\n",
    "        'model_name':'mpn',\n",
    "        'model_title':'name',\n",
    "        'price':'price',\n",
    "        'rating_count':\"reviewCount\",\n",
    "        'avg_rating':\"ratingValue\"\n",
    "    }\n",
    "    \n",
    "    for column in values_to_extract.keys():\n",
    "        label = values_to_extract[column]\n",
    "        extracted_html_value = soup.find('meta', {'itemprop':label})\n",
    "        extracted_value = extracted_html_value.get('content')\n",
    "        # update dictionary value with extracted value\n",
    "        values_to_extract[column]=extracted_value\n",
    "        \n",
    "    return values_to_extract\n",
    "        \n"
   ]
  },
  {
   "cell_type": "markdown",
   "metadata": {},
   "source": [
    "# Putting it all together\n",
    "This part uses the list of monitors to retrieve all the data for each monitor and compiles it all together in one pandas dataframe so that I can get to work cleaning the data, and later perform some (hopefully) insightful analysis on it. "
   ]
  },
  {
   "cell_type": "code",
   "execution_count": 11,
   "metadata": {
    "scrolled": true
   },
   "outputs": [],
   "source": [
    "# Initializing a new dataframe outside the for loop to concatonate with\n",
    "df = pd.DataFrame()\n",
    "\n",
    "# looping through the URL for each monitor\n",
    "for monitor in monitor_url_list:\n",
    "    # building dictionary from values on the monitor page\n",
    "    d = list_to_dict(\n",
    "    clean_listed_element(\n",
    "    clean_element(\n",
    "    download_monitor_specs(monitor)\n",
    "    )))\n",
    "    # building dictionary from values on the monitor review page\n",
    "    d2 = access_review_page(monitor)\n",
    "    d2 = extract_review_elements(d2)\n",
    "    # combining the dictionaries\n",
    "    d2.update(d)\n",
    "    # converting the dictionaries into a dataframe\n",
    "    df2 = pd.DataFrame(data=[d2])\n",
    "    # adding the monitor's dataframe row to the initial dataframe \n",
    "    df = pd.concat([df, df2])\n",
    "    "
   ]
  },
  {
   "cell_type": "code",
   "execution_count": 12,
   "metadata": {},
   "outputs": [
    {
     "data": {
      "text/plain": [
       "(20, 175)"
      ]
     },
     "execution_count": 12,
     "metadata": {},
     "output_type": "execute_result"
    }
   ],
   "source": [
    "# setting up an index\n",
    "df = df.reset_index(drop=True)\n",
    "df.shape"
   ]
  },
  {
   "cell_type": "markdown",
   "metadata": {},
   "source": [
    "# On to data manipulation!\n",
    "Finally, I have a working dataframe, now its time to clean it up! Unfortunately there are only 19 monitors for my dataset, which doesnt give me a lot of comparison points to work with. However there are nearly 200 features! An awful lot of those will end up getting removed for lack of utility, and some of them will end up getting combined or transformed, but there should still be plenty of features to work with."
   ]
  },
  {
   "cell_type": "code",
   "execution_count": 13,
   "metadata": {},
   "outputs": [],
   "source": [
    "# combining Size and Screen Size, Imputing one value, deleting Size column, remove xx\",\n",
    "#     convert to float\n",
    "df['Screen Size'].fillna(df['Size'], inplace=True)\n",
    "df.loc[19,'Screen Size'] = '34\"'\n",
    "df = df.drop(['Size'], axis=1)\n",
    "df['Screen Size'] = df['Screen Size'].str.replace('\"', '')\n",
    "df['Screen Size'] = df['Screen Size'].astype('float')\n"
   ]
  },
  {
   "cell_type": "code",
   "execution_count": 14,
   "metadata": {},
   "outputs": [
    {
     "data": {
      "text/plain": [
       "numpy.float64"
      ]
     },
     "execution_count": 14,
     "metadata": {},
     "output_type": "execute_result"
    }
   ],
   "source": [
    "# changing ratings count of 1 to 0, convert to float.\n",
    "df[['rating_count', 'avg_rating']] = df[['rating_count', 'avg_rating']].astype(float)\n",
    "df[['rating_count', 'avg_rating']] = df[['rating_count',\n",
    "                                         'avg_rating']].replace(to_replace=1, value=0)\n",
    "type(df.rating_count[0])"
   ]
  },
  {
   "cell_type": "code",
   "execution_count": 15,
   "metadata": {},
   "outputs": [],
   "source": [
    "# changing rating average of 0 to Null\n",
    "df['avg_rating']= df['avg_rating'].replace(to_replace=0, value='NaN')"
   ]
  },
  {
   "cell_type": "code",
   "execution_count": 16,
   "metadata": {},
   "outputs": [],
   "source": [
    "# combining display type columns\n",
    "df.loc[6,'Display Type'] = 'Nano IPS'\n",
    "df['Display Type'].fillna(df['Display  Type'], inplace=True)\n",
    "df.loc[19,'Display Type'] = 'Nano IPS'\n",
    "df.drop(['Display  Type'], axis=1, inplace=True)"
   ]
  },
  {
   "cell_type": "code",
   "execution_count": 17,
   "metadata": {},
   "outputs": [],
   "source": [
    "# combining color depth columns and imputing one value\n",
    "df['Color Depth (Number of Colors)'].fillna(df['Color Depth(Number of Colors)'], inplace=True)\n",
    "df.drop(['Color Depth(Number of Colors)'], axis=1, inplace=True)\n",
    "df.loc[19,'Color Depth (Number of Colors)'] = '1.07B'"
   ]
  },
  {
   "cell_type": "code",
   "execution_count": 18,
   "metadata": {},
   "outputs": [],
   "source": [
    "# combing color gamut columns -note, still 2 NaN values\n",
    "df['Color Gamut (Typ.)'].fillna(df['Color Gamut'], inplace=True)\n",
    "df.loc[19,'Color Gamut (Typ.)'] = 'DCI-P3 98% (CIE1976)'\n",
    "df.loc[7,'Color Gamut (Typ.)'] = 'sRGB 99% Color Gamut'\n",
    "df.drop(['Color Gamut'], axis=1, inplace=True)"
   ]
  },
  {
   "cell_type": "code",
   "execution_count": 19,
   "metadata": {},
   "outputs": [],
   "source": [
    "# combining pixel pitch columns\n",
    "df['Pixel Pitch (mm)'].fillna(df['Pixel Pitch(mm)'], inplace=True)\n",
    "df.loc[19,'Pixel Pitch (mm)'] = '0.18159 x 0.18159 mm'\n",
    "df['Pixel Pitch (mm)'] = df['Pixel Pitch (mm)'].str[:5].astype(float)\n",
    "df.drop('Pixel Pitch(mm)', axis=1, inplace=True)"
   ]
  },
  {
   "cell_type": "code",
   "execution_count": 20,
   "metadata": {},
   "outputs": [],
   "source": [
    "# clearing up Response time, more later\n",
    "df['Response Time'].fillna(df['Response Time (GTG)'], inplace=True)\n",
    "df.drop('Response Time (GTG)', axis=1, inplace=True)"
   ]
  },
  {
   "cell_type": "code",
   "execution_count": 21,
   "metadata": {},
   "outputs": [],
   "source": [
    "#making Response time controll a bool integer value\n",
    "df['Response Time Control'].fillna(0, inplace=True)\n",
    "df['Response Time Control'].replace(to_replace='Yes', value=1, inplace=True)\n",
    "df['Response Time Control'] = df['Response Time Control'].astype(int)"
   ]
  },
  {
   "cell_type": "code",
   "execution_count": 22,
   "metadata": {},
   "outputs": [],
   "source": [
    "# df['Brightness'] - this column will need to be transformed into a useable format later"
   ]
  },
  {
   "cell_type": "code",
   "execution_count": 23,
   "metadata": {},
   "outputs": [],
   "source": [
    "# df['Viewing Angle'] has no variation so it gets dropped\n",
    "df.drop(['Viewing Angle'], axis=1, inplace=True)"
   ]
  },
  {
   "cell_type": "code",
   "execution_count": 24,
   "metadata": {},
   "outputs": [],
   "source": [
    "# combining display port column and delete old col\n",
    "df['Display Port'].fillna(df['Display Port Cable'], inplace=True)\n",
    "df.drop('Display Port Cable', axis=1, inplace=True)\n",
    "\n"
   ]
  },
  {
   "cell_type": "code",
   "execution_count": 25,
   "metadata": {},
   "outputs": [],
   "source": [
    "# add imputed value for display resolution\n",
    "df.loc[19,'Display Resolution'] = '5K2K UW-UHD' \n",
    "df['Contrast Ratio'].fillna(df['Contrast Ratio (DFC)'], inplace=True)\n",
    "df.drop('Contrast Ratio (DFC)', axis=1, inplace=True)"
   ]
  },
  {
   "cell_type": "code",
   "execution_count": 26,
   "metadata": {},
   "outputs": [],
   "source": [
    "# convert HDMI to numeric\n",
    "hdmi_map = {\n",
    "    'Yes':1,\n",
    "    'Yes x 2':2,\n",
    "    'Yes (2.0 version)':1\n",
    "}\n",
    "df['HDMI'] = df['HDMI'].map(hdmi_map)"
   ]
  },
  {
   "cell_type": "code",
   "execution_count": 27,
   "metadata": {},
   "outputs": [],
   "source": [
    "# converting display port to numeric and dropping duplicate column\n",
    "display_port_map = {\n",
    "    'Yes x 1':1,\n",
    "    np.NaN:0,\n",
    "    'Yes x 2':2,\n",
    "    'Yes':1\n",
    "}\n",
    "df['DisplayPort'] = df['DisplayPort'].map(display_port_map)\n",
    "df.drop('Display Port', axis=1, inplace=True)"
   ]
  },
  {
   "cell_type": "code",
   "execution_count": 28,
   "metadata": {},
   "outputs": [],
   "source": [
    "#converting headphone to numeric\n",
    "headphone_d = {\n",
    "    'Yes':1,\n",
    "    np.NaN:0}\n",
    "df['Headphone Out'].replace(headphone_d, inplace=True)"
   ]
  },
  {
   "cell_type": "code",
   "execution_count": 29,
   "metadata": {},
   "outputs": [],
   "source": [
    "#dropping columns that refer to power supply\n",
    "drop_cols = df.columns[17:24]\n",
    "df.drop(drop_cols, axis=1, inplace=True)"
   ]
  },
  {
   "cell_type": "code",
   "execution_count": 30,
   "metadata": {},
   "outputs": [],
   "source": [
    "#setting up the freesync variables as different numerical columns\n",
    "\n",
    "freesync_d = {\n",
    "    np.NaN:0,\n",
    "    'AMD FreeSync™':1,\n",
    "    'RADEON FreeSync™':1\n",
    "}\n",
    "df['Adaptive Sync'].fillna(df['Adaptive-Sync (Radeon FreeSync™)'], inplace=True)\n",
    "\n",
    "# setting up freesync column\n",
    "df['freesync'] = 0\n",
    "filter1 = df['Adaptive Sync'] == 'AMD FreeSync™'\n",
    "filter2 = df['Adaptive Sync'] == 'RADEON FreeSync™'\n",
    "df.loc[(filter1)|(filter2),'freesync'] = 1\n",
    "\n",
    "# setting up freesync premium column\n",
    "df['freesync_premium'] = 0\n",
    "filter1 = df['Adaptive Sync'] == 'AMD FreeSync™ Premium'\n",
    "df.loc[(filter1),'freesync_premium'] = 1\n",
    "\n",
    "#setting up freesync premium pro column\n",
    "df['freesync_premium_pro'] = 0\n",
    "filter1 = df['Adaptive Sync'] == 'AMD FreeSync™ Premium Pro'\n",
    "df.loc[(filter1),'freesync_premium_pro'] = 1\n",
    "df['freesync_premium_pro']\n",
    "\n",
    "df.drop(['Adaptive-Sync (Radeon FreeSync™)', 'Adaptive Sync'],axis=1, inplace=True)"
   ]
  },
  {
   "cell_type": "code",
   "execution_count": 31,
   "metadata": {},
   "outputs": [],
   "source": [
    "#replacing value for spelling error column\n",
    "df['FreeSync (Low Frame Compensation)'].fillna(\n",
    "    df['FreeSync (Low Frame Conpensation)'], inplace=True)\n",
    "df.drop(['FreeSync (Low Frame Conpensation)'], axis=1, inplace=True)"
   ]
  },
  {
   "cell_type": "code",
   "execution_count": 32,
   "metadata": {},
   "outputs": [],
   "source": [
    "# cleaning up a bunch of yes/no columns\n",
    "map_d = {\n",
    "    np.NaN:0,\n",
    "    'Yes':1\n",
    "} \n",
    "df.iloc[:,17:27] = df.iloc[:,17:27].replace(map_d)"
   ]
  },
  {
   "cell_type": "code",
   "execution_count": 33,
   "metadata": {},
   "outputs": [],
   "source": [
    "# dropping stand and size columns\n",
    "size_drop_cols = df.iloc[:, 31:40].columns\n",
    "df.drop(size_drop_cols, axis=1, inplace=True)"
   ]
  },
  {
   "cell_type": "code",
   "execution_count": 34,
   "metadata": {},
   "outputs": [
    {
     "name": "stderr",
     "output_type": "stream",
     "text": [
      "C:\\Users\\nate\\anaconda3\\lib\\site-packages\\pandas\\core\\ops\\array_ops.py:253: FutureWarning: elementwise comparison failed; returning scalar instead, but in the future will perform elementwise comparison\n",
      "  res_values = method(rvalues)\n"
     ]
    }
   ],
   "source": [
    "# combining color weakness columns\n",
    "mask = df['Color Weakness']=='Yes'\n",
    "df.loc[mask,'Color Weakness Mode'] = 1\n",
    "\n",
    "\n",
    "# combining black stabilizer columns\n",
    "mask = df['Black Stabilizer®']=='Yes'\n",
    "df.loc[mask, 'Black Stabilizer'] = 1\n",
    "\n",
    "# combining dynamic sync cols\n",
    "mask = df['Dynamic Action Sync®']=='Yes'\n",
    "df.loc[mask,'Dynamic Action Sync'] = 1\n",
    "\n",
    "# combining Flickersafe cols\n",
    "mask = df['Flicker Safe®']=='Yes'\n",
    "df.loc[mask, 'Flicker Safe'] = 1\n",
    "\n",
    "# combinbin super resolution columns\n",
    "df['Super Resolution+'].fillna(0, inplace=True)\n",
    "df['Super Resolution+'].replace(to_replace='Yes', value= 1, inplace=True)\n",
    "mask1 = df['Super  Resolution +']=='Yes'\n",
    "mask2 = df['Super Resolution +']=='Yes'\n",
    "mask3 = df['Super+ Resolution']=='Yes'\n",
    "df.loc[(mask1)|(mask2)|(mask3),'Super Resolution+'] = 1\n",
    "\n",
    "#combining OSC columns\n",
    "df['On Screen Control (OSC)'].fillna(0, inplace=True)\n",
    "mask1 = (df['On Screen Control']=='Yes')\n",
    "mask2 = (df['OnScreen Control (OSC)']=='Yes')\n",
    "df.loc[(mask1)|(mask2),'On Screen Control (OSC)']=1\n",
    "\n",
    "# combining HDR cols\n",
    "df.loc[19, 'VESA DisplayHDR™'] = 'VESA HDR 600'\n",
    "df['HDR Effect'].fillna(0, inplace=True)\n",
    "df['HDR Effect'].replace(to_replace=['Yes'], value=['1'], inplace=True)\n",
    "df['HDR'] = df['HDR Effect']\n",
    "df.loc[[15,16,19],'HDR']=1\n",
    "\n",
    " # combine and replace speaker cols\n",
    "replace = ['No Built-in Speaker', 'No-built in speaker', 'Yes']\n",
    "r_with = [0, 0, 1]\n",
    "\n",
    "df['Speaker'].fillna(0, inplace=True)\n",
    "df['Speaker'].replace(to_replace=replace, value=r_with, inplace=True)\n",
    "\n",
    "# converting response time col to single digit numerical\n",
    "df['response_time_ms'] = df['Response Time'].str[0].astype(int).copy()\n",
    "\n",
    "# imputed last moniter refresh rate\n",
    "df.loc[19,'Refresh Rate'] = '75Hz'\n",
    "df['Refresh Rate'] = df['Refresh Rate'].apply(lambda x: x.split(' ')[0])\n",
    "df['refresh_rate(hz)'] = df['Refresh Rate'].str[0:-2].copy()\n",
    "\n",
    "# make wide color gamut numerical\n",
    "df['Wide Color Gamut'].fillna(0, inplace=True)\n",
    "df['Wide Color Gamut'].replace(to_replace='Yes', value= 1, inplace=True)\n",
    "\n",
    "# make 2020 model numeric\n",
    "df['2020 Model'].fillna(0, inplace=True)\n",
    "df['2020 Model'].replace({'Yes':1}, inplace=True)\n",
    "\n",
    "# adding to nano ips col\n",
    "mask = df['Nano IPS™ Technology']=='Yes'\n",
    "df.loc[mask, 'Display Type'].replace(to_replace='IPS', value='Nano IPS', inplace=True)\n",
    "\n",
    "# make blur col numeric \n",
    "df['1ms Motion Blur Reduction'].fillna(0, inplace=True)\n",
    "df['1ms Motion Blur Reduction'].replace(to_replace='Yes', value=1, inplace=True)\n",
    "\n",
    "# make curved numeric\n",
    "df['Curved'].fillna(0, inplace=True)\n",
    "df['Curved'].replace(to_replace='Yes', value=1, inplace=True)\n",
    "\n",
    "# g-sync\n",
    "df['NVIDIA G-Sync™'].fillna(0, inplace=True)\n",
    "df['NVIDIA G-Sync™'].replace({'Yes (Compatible)':1,\n",
    "                              'G-SYNC Compatible':1, \n",
    "                              'NVIDIA G-SYNC ULTIMATE':1},\n",
    "                            inplace=True)\n",
    "\n",
    "# filling na in Surface treatment\n",
    "df['Surface Treatment'].fillna('N/A', inplace=True)\n",
    "df['Surface Treatment']\n",
    "\n",
    "# grouping resolution\n",
    "res_d = {'4K UHD': '4K', \n",
    "         '5K2K UW-UHD':'UW-UHD',\n",
    "         'UW QHD':'UW-QHD'}\n",
    "df['Display Resolution'].replace(res_d, inplace=True)\n",
    "\n",
    "# making price a float\n",
    "df['price'] = df['price'].astype(float)\n",
    "\n",
    "drop_cols = ['Color Weakness','Black Stabilizer®', 'Super  Resolution +',\n",
    "             'Super Resolution +','Super+ Resolution',\"Dual EDID (H/W)\",\n",
    "             'On Screen Control', 'OnScreen Control (OSC)', 'HDR (High Dynamic Range)',\n",
    "             'HDR Effect','Windows 10','Country of origin','Country of Origin','Dynamic Action Sync®',\n",
    "             'Flicker Safe®','D-Sub','Speaker Channel','Speaker Output', 'Response Time', 'VESA DSC', \n",
    "             'Active Dimming', 'Tilt (Angle)', 'Height (mm)','One Click Stand Set-up', 'Mouse Holder', \n",
    "             'Ergo Stand', 'Swivel (Angle)', 'Extend/Retract (mm)', 'USB-C (DP Alternate Mode)',\n",
    "             'USB-C (Data Transsmission)', 'USB-C (Power Delivery)', 'USB Type C to A Gender', 'USB A to B',\n",
    "             'DisplayPort OverClock', 'PBP (Picture by Picture)', 'Thunderbolt', 'Speaker Type', 'Active Dimming',\n",
    "             'Thunderbolt 3', 'PBP', 'Rich Bass', 'Panel Type', 'USB-C', 'ThunderBolt', 'Normal On (EPA)', \n",
    "             'Output', 'Key Lock', 'DDC/CI', 'HDCP', 'Picture Mode', 'Factory Calibration', 'Automatic Standby', \n",
    "             'Six Axis Control', 'DAS Mode', 'Response Time Control', 'My Display Preset (in OSC)', 'Ratio',\n",
    "             'Local Dimming', 'Wall Mount Size (mm)', 'Normal On (factory out condition Typ.)', 'Crosshair', 'USB', \n",
    "             'USB Type-C', 'Maxx Audio', 'USB Up-Stream (ver 3.0)', 'USB Down-Stream (ver 3.0)',\n",
    "             'Product with Stand (WxHxD)', 'Product without Stand (WxHxD)','Shipping Size (WxHxD)',\n",
    "             'Product Weight with Stand', 'Product Weight without Stand', 'Tilt(Angle)', 'Height(mm)', 'Pivot',\n",
    "             'USB3.0 Upstream Cable', 'USB Up-stream', 'USB Down-stream', 'Overclock', 'Crosshair®',\n",
    "             'Auto Input Switch', 'FPS Counter', 'Motion Blur Reduction Technology','User Define Key',\n",
    "             'Power Save/Sleep Mode (Max.)', 'DC Off', 'DC Off (Max.)', 'H/W Calibration (True Color Pro)', \n",
    "             'Sphere Lighting', 'LG UltraGear™ Control Center', '4-Side Virtually Borderless Design', \n",
    "             'True Color Pro', 'Others (Accessory)', 'PIP', 'Game Mode', 'Auto Brightness', \n",
    "             'H/W Calibration Ready (True Color Pro)', 'Screen split2.0 (in OSC)', 'TUV-Type', 'UL(cUL)', \n",
    "             'FCC-B, CE', 'TCO 6.0', 'ErP', 'CCC (for China)', 'BSMI (for Taiwan)', 'Power Cord', 'Cable Holder',\n",
    "             'Thunderbolt3 Cable', 'USB (USB B-to-A, White)', 'Nano IPS™ Technology',\n",
    "             'FreeSync (Low Frame Compensation)', 'VESA DisplayHDR™', 'Refresh Rate']\n",
    "\n",
    "df.drop(drop_cols, axis=1, inplace=True)"
   ]
  },
  {
   "cell_type": "code",
   "execution_count": 35,
   "metadata": {},
   "outputs": [
    {
     "data": {
      "text/plain": [
       "model_name                        0\n",
       "model_title                       0\n",
       "price                             0\n",
       "rating_count                      0\n",
       "avg_rating                        0\n",
       "Screen Size                       0\n",
       "Color Gamut (Typ.)                0\n",
       "Aspect Ratio                      0\n",
       "Display Resolution                0\n",
       "Resolution                        0\n",
       "Brightness                        0\n",
       "Contrast Ratio                    0\n",
       "Surface Treatment                 0\n",
       "HDMI                              0\n",
       "DisplayPort                       0\n",
       "Headphone Out                     0\n",
       "Color Weakness Mode               0\n",
       "Black Stabilizer                  0\n",
       "Dynamic Action Sync               0\n",
       "Flicker Safe                      0\n",
       "Smart Energy Saving               0\n",
       "Reader Mode                       0\n",
       "Color Calibrated                  0\n",
       "Dual Controller                   0\n",
       "On Screen Control (OSC)           0\n",
       "Wide Color Gamut                  0\n",
       "Color Depth (Number of Colors)    0\n",
       "Pixel Pitch (mm)                  0\n",
       "Speaker                           0\n",
       "2020 Model                        0\n",
       "NVIDIA G-Sync™                    0\n",
       "1ms Motion Blur Reduction         0\n",
       "Display Type                      0\n",
       "Super Resolution+                 0\n",
       "Curved                            0\n",
       "freesync                          0\n",
       "freesync_premium                  0\n",
       "freesync_premium_pro              0\n",
       "HDR                               0\n",
       "response_time_ms                  0\n",
       "refresh_rate(hz)                  0\n",
       "dtype: int64"
      ]
     },
     "execution_count": 35,
     "metadata": {},
     "output_type": "execute_result"
    }
   ],
   "source": [
    "# looking at what we have for null values\n",
    "df.isnull().sum()"
   ]
  },
  {
   "cell_type": "code",
   "execution_count": 36,
   "metadata": {},
   "outputs": [
    {
     "name": "stdout",
     "output_type": "stream",
     "text": [
      "<class 'pandas.core.frame.DataFrame'>\n",
      "RangeIndex: 20 entries, 0 to 19\n",
      "Data columns (total 41 columns):\n",
      " #   Column                          Non-Null Count  Dtype  \n",
      "---  ------                          --------------  -----  \n",
      " 0   model_name                      20 non-null     object \n",
      " 1   model_title                     20 non-null     object \n",
      " 2   price                           20 non-null     float64\n",
      " 3   rating_count                    20 non-null     float64\n",
      " 4   avg_rating                      20 non-null     object \n",
      " 5   Screen Size                     20 non-null     float64\n",
      " 6   Color Gamut (Typ.)              20 non-null     object \n",
      " 7   Aspect Ratio                    20 non-null     object \n",
      " 8   Display Resolution              20 non-null     object \n",
      " 9   Resolution                      20 non-null     object \n",
      " 10  Brightness                      20 non-null     object \n",
      " 11  Contrast Ratio                  20 non-null     object \n",
      " 12  Surface Treatment               20 non-null     object \n",
      " 13  HDMI                            20 non-null     int64  \n",
      " 14  DisplayPort                     20 non-null     int64  \n",
      " 15  Headphone Out                   20 non-null     int64  \n",
      " 16  Color Weakness Mode             20 non-null     int64  \n",
      " 17  Black Stabilizer                20 non-null     int64  \n",
      " 18  Dynamic Action Sync             20 non-null     int64  \n",
      " 19  Flicker Safe                    20 non-null     int64  \n",
      " 20  Smart Energy Saving             20 non-null     int64  \n",
      " 21  Reader Mode                     20 non-null     int64  \n",
      " 22  Color Calibrated                20 non-null     int64  \n",
      " 23  Dual Controller                 20 non-null     int64  \n",
      " 24  On Screen Control (OSC)         20 non-null     int64  \n",
      " 25  Wide Color Gamut                20 non-null     int64  \n",
      " 26  Color Depth (Number of Colors)  20 non-null     object \n",
      " 27  Pixel Pitch (mm)                20 non-null     float64\n",
      " 28  Speaker                         20 non-null     int64  \n",
      " 29  2020 Model                      20 non-null     int64  \n",
      " 30  NVIDIA G-Sync™                  20 non-null     int64  \n",
      " 31  1ms Motion Blur Reduction       20 non-null     int64  \n",
      " 32  Display Type                    20 non-null     object \n",
      " 33  Super Resolution+               20 non-null     int64  \n",
      " 34  Curved                          20 non-null     int64  \n",
      " 35  freesync                        20 non-null     int64  \n",
      " 36  freesync_premium                20 non-null     int64  \n",
      " 37  freesync_premium_pro            20 non-null     int64  \n",
      " 38  HDR                             20 non-null     object \n",
      " 39  response_time_ms                20 non-null     int32  \n",
      " 40  refresh_rate(hz)                20 non-null     object \n",
      "dtypes: float64(4), int32(1), int64(22), object(14)\n",
      "memory usage: 6.5+ KB\n"
     ]
    }
   ],
   "source": [
    "df.info()"
   ]
  },
  {
   "cell_type": "markdown",
   "metadata": {},
   "source": [
    "# From data to DataFrame\n",
    "I would have liked to have more rows here, but I have over 40 features for about 20 monitors to work with as I move into the last phase, DATA ANALYSIS. The webscraping was a little bit more tedious than I had hoped, and in the end I had to sacrifice number of monitors in order to get a more feature rich data set. I can always go back and try to scrape more data from a competitive brand, but to try to derive meaningful correlations from only 5 or 6 features across a lot more monitors didnt make a whole lot of sense for me. I have a few categorical variables to work with to see how much impact the feature has, but I also made sure I had plenty of numerical data to run some regression analysis with. There are still a few columns that I will probably end up manipulating as I start to explore the data more, but I have largely filtered out the irrelevant stuff and shaped the data into a useable form. I am going to save this dataframe as a CSV file and open it up in a new notebook so that if I have to rerun the notebook to clear the state I dont end up waiting too long. Excited to see which monitor emerges victorious!\n"
   ]
  },
  {
   "cell_type": "code",
   "execution_count": 37,
   "metadata": {},
   "outputs": [],
   "source": [
    "df.to_csv('monitor_project.csv')"
   ]
  }
 ],
 "metadata": {
  "kernelspec": {
   "display_name": "Python 3",
   "language": "python",
   "name": "python3"
  },
  "language_info": {
   "codemirror_mode": {
    "name": "ipython",
    "version": 3
   },
   "file_extension": ".py",
   "mimetype": "text/x-python",
   "name": "python",
   "nbconvert_exporter": "python",
   "pygments_lexer": "ipython3",
   "version": "3.8.3"
  }
 },
 "nbformat": 4,
 "nbformat_minor": 4
}
