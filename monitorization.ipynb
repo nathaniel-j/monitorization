{
 "cells": [
  {
   "cell_type": "markdown",
   "metadata": {},
   "source": [
    "![monitor](monitor_pic.jpg)\n",
    "\n",
    "\n",
    "My current computer monitor is getting a bit dated and my eyes have started to feel sore from looking at it all day. I want to buy a new computer monitor, but every time I get online to start searching I get overwhelmed by the number of monitors available. They come in a wide variety of sizes, widths, definitions, display types, port types, etc, and vary in price from under \\\\$100 to well over \\\\$1000. While I know that I want to upgrade my screen size to give me more working area, other options, like gaming features, are irrelevant to me. How on earth will I ever be able to decide which monitor is right for me?\n",
    "\n",
    "This seems like a perfect opportunity to put some data analysis into action! For this project I am going to be acquiring feature data for a number of different computer monitors and running some product analysis across those features to help me make a data driven decision which monitor to purchase. "
   ]
  },
  {
   "cell_type": "markdown",
   "metadata": {},
   "source": [
    "### First Step: Get the data\n",
    "Unfortunately, I was unable to find a downloadable preexisting dataset for computer monitors so I had to make the dataset myself. I looked through a few different websites that carried a wide variety of monitors from different manufacturers but the available data was limited to pretty basic specifications. For this project I wanted to use a dataset with a rich feature set in order to try to explore more subtle differences in features and try to tease out their value. LG is one of the brands that seem to be pretty appealing to me, and when I looked at their website I found that for each monitor they provided over 50 data points and it was in a format that wouldnt be too difficult to scrape. So, my first step of the first step is going to be building a set of functions to scrape, clean and format the data for one monitor into a dataframe. Then later I will use those functions across multiple monitors and compile them all into one dataset. "
   ]
  },
  {
   "cell_type": "code",
   "execution_count": 177,
   "metadata": {},
   "outputs": [],
   "source": [
    "import pandas as pd\n",
    "from bs4 import BeautifulSoup\n",
    "import requests"
   ]
  },
  {
   "cell_type": "code",
   "execution_count": 109,
   "metadata": {},
   "outputs": [
    {
     "name": "stdout",
     "output_type": "stream",
     "text": [
      "returned object is a <class 'list'> with 10 elements \n"
     ]
    }
   ],
   "source": [
    "# downloading the selected spec tags for a given monitor from the LG website\n",
    "\n",
    "results = requests.get('https://www.lg.com/us/monitors/lg-32ul500-w-4k-uhd-monitor')\n",
    "content = results.content\n",
    "parser = BeautifulSoup(content, 'lxml')\n",
    "\n",
    "table = list(parser.find_all('div', class_=\"tech-spacs\"))\n",
    "\n",
    "# the result is a list with 10 elements\n",
    "# each element is a string with spec data for one aspect of the monitor\n",
    "\n",
    "table_type = type(table)\n",
    "print(f\"returned object is a {table_type} with {len(table)} elements \")"
   ]
  },
  {
   "cell_type": "code",
   "execution_count": 149,
   "metadata": {},
   "outputs": [],
   "source": [
    "# cleaning the first element and turning it into a list\n",
    "\n",
    "first_table = table[0].text.replace('\\n', ' ')\n",
    "first_table = first_table.replace('\\t', ' ')\n",
    "first_table = first_table.strip()\n",
    "first_table_listed = first_table.rsplit('   ')"
   ]
  },
  {
   "cell_type": "code",
   "execution_count": 133,
   "metadata": {},
   "outputs": [],
   "source": [
    "# cleaning up the list\n",
    "\n",
    "q_list = [element for element in first_table_listed if element != '']\n",
    "q_header = q_list[0]\n",
    "q_body = q_list[1:]\n",
    "f = lambda q: q.strip()\n",
    "mapped_q = list(map(f, q_body))"
   ]
  },
  {
   "cell_type": "code",
   "execution_count": 152,
   "metadata": {},
   "outputs": [],
   "source": [
    "#separating the list into category & value lists and recombining as a dictionary\n",
    "\n",
    "category = [mapped_q[i] for i in range(len(mapped_q)) if i%2 == 0]\n",
    "value = [mapped_q[i] for i in range(len(mapped_q)) if i%2 != 0]\n",
    "monitor_dict = dict(zip(category, value))"
   ]
  },
  {
   "cell_type": "code",
   "execution_count": 154,
   "metadata": {},
   "outputs": [
    {
     "data": {
      "text/html": [
       "<div>\n",
       "<style scoped>\n",
       "    .dataframe tbody tr th:only-of-type {\n",
       "        vertical-align: middle;\n",
       "    }\n",
       "\n",
       "    .dataframe tbody tr th {\n",
       "        vertical-align: top;\n",
       "    }\n",
       "\n",
       "    .dataframe thead th {\n",
       "        text-align: right;\n",
       "    }\n",
       "</style>\n",
       "<table border=\"1\" class=\"dataframe\">\n",
       "  <thead>\n",
       "    <tr style=\"text-align: right;\">\n",
       "      <th></th>\n",
       "      <th>Size</th>\n",
       "      <th>Display  Type</th>\n",
       "      <th>Response Time</th>\n",
       "      <th>Refresh Rate</th>\n",
       "      <th>Display Resolution</th>\n",
       "      <th>Color Gamut (Typ.)</th>\n",
       "      <th>Color Depth (Number of Colors)</th>\n",
       "      <th>Pixel Pitch (mm)</th>\n",
       "      <th>Aspect Ratio</th>\n",
       "      <th>Resolution</th>\n",
       "      <th>Brightness</th>\n",
       "      <th>Contrast Ratio</th>\n",
       "      <th>Viewing Angle</th>\n",
       "      <th>Surface Treatment</th>\n",
       "    </tr>\n",
       "  </thead>\n",
       "  <tbody>\n",
       "    <tr>\n",
       "      <th>0</th>\n",
       "      <td>32\"</td>\n",
       "      <td>VA</td>\n",
       "      <td>4ms (GtG at Faster)</td>\n",
       "      <td>60Hz</td>\n",
       "      <td>4K UHD</td>\n",
       "      <td>DCI-P3 95% (CIE1976)</td>\n",
       "      <td>1.07B</td>\n",
       "      <td>0.181x 0.181 mm</td>\n",
       "      <td>16:9</td>\n",
       "      <td>3840 x 2160</td>\n",
       "      <td>300cd/m²</td>\n",
       "      <td>3000:1</td>\n",
       "      <td>178˚(R/L), 178˚(U/D)</td>\n",
       "      <td>Anti-Glare</td>\n",
       "    </tr>\n",
       "  </tbody>\n",
       "</table>\n",
       "</div>"
      ],
      "text/plain": [
       "  Size Display  Type        Response Time Refresh Rate Display Resolution  \\\n",
       "0  32\"            VA  4ms (GtG at Faster)         60Hz             4K UHD   \n",
       "\n",
       "     Color Gamut (Typ.) Color Depth (Number of Colors) Pixel Pitch (mm)  \\\n",
       "0  DCI-P3 95% (CIE1976)                          1.07B  0.181x 0.181 mm   \n",
       "\n",
       "  Aspect Ratio   Resolution Brightness Contrast Ratio         Viewing Angle  \\\n",
       "0         16:9  3840 x 2160   300cd/m²         3000:1  178˚(R/L), 178˚(U/D)   \n",
       "\n",
       "  Surface Treatment  \n",
       "0        Anti-Glare  "
      ]
     },
     "execution_count": 154,
     "metadata": {},
     "output_type": "execute_result"
    }
   ],
   "source": [
    "# putting the values into a dataframe with the row representing the monitor and columns are its attributes\n",
    "\n",
    "df = pd.DataFrame(data=monitor_dict, index=[0])\n",
    "df"
   ]
  },
  {
   "cell_type": "code",
   "execution_count": 170,
   "metadata": {},
   "outputs": [],
   "source": [
    "# building functions for the transformation of each returned scraped elements\n",
    "\n",
    "def download_monitor_specs(URL):\n",
    "    \"\"\"Import monitor specs and parse into list of strings\"\"\"\n",
    "    \n",
    "    from bs4 import BeautifulSoup\n",
    "    import requests\n",
    "    results = requests.get(URL)\n",
    "    content = results.content\n",
    "    parser = BeautifulSoup(content, 'lxml')\n",
    "    list_of_strings = list(parser.find_all('div', class_=\"tech-spacs\"))\n",
    "    return list_of_strings\n",
    "    \n",
    "def clean_element(list_of_strings):\n",
    "    \"\"\"Reformat list of HTML strings and return a list of lists\"\"\"\n",
    "    \n",
    "    listed_element_lists = []\n",
    "    for string in list_of_strings:\n",
    "        string = string.text.replace('\\n', ' ')\n",
    "        string = string.replace('\\t', ' ')\n",
    "        string = string.strip()\n",
    "        listed_string = string.rsplit('   ')\n",
    "        listed_element_lists.append(listed_string)\n",
    "    return listed_element_lists\n",
    "\n",
    "def clean_listed_element(listed_element_lists):\n",
    "    \"\"\"Remove blank lines and strip empty spaces on list elements\"\"\"\n",
    "    \n",
    "    cleaned_element_list = []\n",
    "    for list_ in listed_element_lists:\n",
    "        listed_element = [element for element in list_ if element != '']\n",
    "        listed_element = listed_element[1:]\n",
    "        f = lambda q: q.strip()\n",
    "        listed_element = list(map(f, listed_element))\n",
    "        cleaned_element_list.append(listed_element)\n",
    "    return cleaned_element_list\n",
    "\n",
    "def list_to_dict(cleaned_element_list):\n",
    "    \"\"\"Separate list into categories and values then combine into dictionary\"\"\"\n",
    "    \n",
    "    categories = []\n",
    "    values = []\n",
    "    for element in cleaned_element_list:\n",
    "        category = [element[i] for i in range(len(element)) if i%2 == 0]\n",
    "        categories += category\n",
    "        value = [element[i] for i in range(len(element)) if i%2 != 0]\n",
    "        values+=value\n",
    "    \n",
    "    monitor_dict = dict(zip(categories, values))\n",
    "    return monitor_dict\n",
    "\n",
    "def dict_to_df(monitor_dict):\n",
    "    \"\"\"Convert dictionary of monitor specs into pandas DataFrame object\"\"\"\n",
    "    import pandas as pd\n",
    "    df = pd.DataFrame(data=monitor_dict, index=[0])\n",
    "    return df\n",
    "\n"
   ]
  },
  {
   "cell_type": "code",
   "execution_count": null,
   "metadata": {},
   "outputs": [],
   "source": [
    "url = 'https://www.lg.com/us/monitors/lg-32ul500-w-4k-uhd-monitor'\n",
    "download_monitor_specs(URL)\n",
    "clean_element(list_of_strings)\n",
    "clean_listed_element(listed_element_lists)\n",
    "list_to_dict(cleaned_element_list)\n",
    "dict_to_df(monitor_dict)"
   ]
  },
  {
   "cell_type": "code",
   "execution_count": 174,
   "metadata": {},
   "outputs": [
    {
     "data": {
      "text/plain": [
       "(1, 52)"
      ]
     },
     "execution_count": 174,
     "metadata": {},
     "output_type": "execute_result"
    }
   ],
   "source": [
    "# testing out the function pipeline so far\n",
    "\n",
    "url = 'https://www.lg.com/us/monitors/lg-32ul500-w-4k-uhd-monitor'\n",
    "\n",
    "df = dict_to_df(\n",
    "    list_to_dict(\n",
    "    clean_listed_element(\n",
    "    clean_element(\n",
    "    download_monitor_specs(url)\n",
    "    ))))\n",
    "\n",
    "df.shape"
   ]
  },
  {
   "cell_type": "code",
   "execution_count": 176,
   "metadata": {},
   "outputs": [
    {
     "data": {
      "text/html": [
       "<div>\n",
       "<style scoped>\n",
       "    .dataframe tbody tr th:only-of-type {\n",
       "        vertical-align: middle;\n",
       "    }\n",
       "\n",
       "    .dataframe tbody tr th {\n",
       "        vertical-align: top;\n",
       "    }\n",
       "\n",
       "    .dataframe thead th {\n",
       "        text-align: right;\n",
       "    }\n",
       "</style>\n",
       "<table border=\"1\" class=\"dataframe\">\n",
       "  <thead>\n",
       "    <tr style=\"text-align: right;\">\n",
       "      <th></th>\n",
       "      <th>Size</th>\n",
       "      <th>Display  Type</th>\n",
       "      <th>Response Time</th>\n",
       "      <th>Refresh Rate</th>\n",
       "      <th>Display Resolution</th>\n",
       "      <th>Color Gamut (Typ.)</th>\n",
       "      <th>Color Depth (Number of Colors)</th>\n",
       "      <th>Pixel Pitch (mm)</th>\n",
       "      <th>Aspect Ratio</th>\n",
       "      <th>Resolution</th>\n",
       "      <th>...</th>\n",
       "      <th>Shipping Dimensions (WxHxD)</th>\n",
       "      <th>With Stand Weight</th>\n",
       "      <th>Without Stand Weight</th>\n",
       "      <th>Shipping Weight</th>\n",
       "      <th>Display Position Adjustments</th>\n",
       "      <th>Wall Mount Size (mm)</th>\n",
       "      <th>Display Port</th>\n",
       "      <th>2020 Model</th>\n",
       "      <th>Limited Warranty</th>\n",
       "      <th>UPC</th>\n",
       "    </tr>\n",
       "  </thead>\n",
       "  <tbody>\n",
       "    <tr>\n",
       "      <th>0</th>\n",
       "      <td>32\"</td>\n",
       "      <td>VA</td>\n",
       "      <td>4ms (GtG at Faster)</td>\n",
       "      <td>60Hz</td>\n",
       "      <td>4K UHD</td>\n",
       "      <td>DCI-P3 95% (CIE1976)</td>\n",
       "      <td>1.07B</td>\n",
       "      <td>0.181x 0.181 mm</td>\n",
       "      <td>16:9</td>\n",
       "      <td>3840 x 2160</td>\n",
       "      <td>...</td>\n",
       "      <td>32.5\" x 19.9\" x 8.9\"</td>\n",
       "      <td>13.7 lbs</td>\n",
       "      <td>11.7 lbs</td>\n",
       "      <td>21.6 lbs</td>\n",
       "      <td>Tilt</td>\n",
       "      <td>100 x 100 mm</td>\n",
       "      <td>Yes</td>\n",
       "      <td>Yes</td>\n",
       "      <td>1 Year Parts and Labor</td>\n",
       "      <td>719192641761</td>\n",
       "    </tr>\n",
       "  </tbody>\n",
       "</table>\n",
       "<p>1 rows × 52 columns</p>\n",
       "</div>"
      ],
      "text/plain": [
       "  Size Display  Type        Response Time Refresh Rate Display Resolution  \\\n",
       "0  32\"            VA  4ms (GtG at Faster)         60Hz             4K UHD   \n",
       "\n",
       "     Color Gamut (Typ.) Color Depth (Number of Colors) Pixel Pitch (mm)  \\\n",
       "0  DCI-P3 95% (CIE1976)                          1.07B  0.181x 0.181 mm   \n",
       "\n",
       "  Aspect Ratio   Resolution  ... Shipping Dimensions (WxHxD)  \\\n",
       "0         16:9  3840 x 2160  ...        32.5\" x 19.9\" x 8.9\"   \n",
       "\n",
       "  With Stand Weight Without Stand Weight Shipping Weight  \\\n",
       "0          13.7 lbs             11.7 lbs        21.6 lbs   \n",
       "\n",
       "  Display Position Adjustments Wall Mount Size (mm) Display Port 2020 Model  \\\n",
       "0                         Tilt         100 x 100 mm          Yes        Yes   \n",
       "\n",
       "         Limited Warranty           UPC  \n",
       "0  1 Year Parts and Labor  719192641761  \n",
       "\n",
       "[1 rows x 52 columns]"
      ]
     },
     "execution_count": 176,
     "metadata": {},
     "output_type": "execute_result"
    }
   ],
   "source": [
    "df"
   ]
  },
  {
   "cell_type": "code",
   "execution_count": null,
   "metadata": {},
   "outputs": [],
   "source": []
  }
 ],
 "metadata": {
  "kernelspec": {
   "display_name": "Python 3",
   "language": "python",
   "name": "python3"
  },
  "language_info": {
   "codemirror_mode": {
    "name": "ipython",
    "version": 3
   },
   "file_extension": ".py",
   "mimetype": "text/x-python",
   "name": "python",
   "nbconvert_exporter": "python",
   "pygments_lexer": "ipython3",
   "version": "3.8.3"
  }
 },
 "nbformat": 4,
 "nbformat_minor": 4
}
